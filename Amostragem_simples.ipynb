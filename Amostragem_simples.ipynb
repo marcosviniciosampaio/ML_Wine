{
  "nbformat": 4,
  "nbformat_minor": 0,
  "metadata": {
    "colab": {
      "provenance": [],
      "authorship_tag": "ABX9TyN/uEOpmv+nl2oFiVWSUGOk",
      "include_colab_link": true
    },
    "kernelspec": {
      "name": "python3",
      "display_name": "Python 3"
    },
    "language_info": {
      "name": "python"
    }
  },
  "cells": [
    {
      "cell_type": "markdown",
      "metadata": {
        "id": "view-in-github",
        "colab_type": "text"
      },
      "source": [
        "<a href=\"https://colab.research.google.com/github/marcosviniciosampaio/ML_Wine/blob/main/Amostragem_simples.ipynb\" target=\"_parent\"><img src=\"https://colab.research.google.com/assets/colab-badge.svg\" alt=\"Open In Colab\"/></a>"
      ]
    },
    {
      "cell_type": "code",
      "execution_count": null,
      "metadata": {
        "id": "ahHz8IBdEv_-"
      },
      "outputs": [],
      "source": [
        "#Importação de bibliotecas: pandas para carregar arquivos .csv e numpy para gerar números aleatórios\n",
        "import pandas as pd\n",
        "import numpy as np"
      ]
    },
    {
      "cell_type": "code",
      "source": [
        "#  Carregamento da base de dados e visualização dos dados\n",
        "base = pd.read_csv('iris.csv')\n",
        "#verificar quantas linham e colunas possui\n",
        "base.shape"
      ],
      "metadata": {
        "id": "vqPlKqxaFD9F",
        "colab": {
          "base_uri": "https://localhost:8080/"
        },
        "outputId": "e85743bf-2163-4148-8234-a691af4c9241"
      },
      "execution_count": null,
      "outputs": [
        {
          "output_type": "execute_result",
          "data": {
            "text/plain": [
              "(150, 5)"
            ]
          },
          "metadata": {},
          "execution_count": 7
        }
      ]
    },
    {
      "cell_type": "code",
      "source": [
        "# Mudança da semente aleatória randomica para manter os resultados em várias execuções\n",
        "np.random.seed(2345)\n",
        "#150 amostras, de 0 a 1, com reposição, probabilidades equivalentes\n",
        "amostra = np.random.choice( a = [0,1], size = 150, replace = True, p = [0.7, 0.3])\n",
        "# Verificar tamanho da amostra\n",
        "#len(amostra)\n",
        "# Verificar tamano de amostra para valores igual a 1 e 0\n",
        "#len(amostra[amostra == 1])\n",
        "#len(amostra[amostra == 0])\n",
        "amostra"
      ],
      "metadata": {
        "colab": {
          "base_uri": "https://localhost:8080/"
        },
        "id": "-EiytaDcGkPU",
        "outputId": "c7fee0fd-2764-4551-b77b-8b60820bd3f4"
      },
      "execution_count": null,
      "outputs": [
        {
          "output_type": "execute_result",
          "data": {
            "text/plain": [
              "array([0, 0, 0, 0, 1, 0, 0, 0, 1, 0, 0, 1, 0, 1, 0, 0, 1, 0, 1, 1, 1, 0,\n",
              "       0, 1, 1, 1, 0, 1, 0, 0, 1, 0, 0, 1, 1, 0, 1, 0, 0, 0, 1, 0, 1, 0,\n",
              "       0, 0, 0, 0, 0, 0, 1, 1, 0, 0, 0, 0, 0, 0, 0, 0, 0, 1, 0, 0, 1, 0,\n",
              "       0, 1, 0, 0, 1, 0, 0, 0, 0, 1, 0, 1, 0, 0, 1, 1, 0, 0, 0, 0, 0, 0,\n",
              "       0, 0, 0, 0, 1, 0, 1, 1, 1, 1, 1, 1, 0, 0, 0, 0, 0, 0, 0, 0, 1, 0,\n",
              "       0, 0, 0, 0, 0, 0, 0, 0, 1, 0, 0, 0, 0, 0, 1, 1, 1, 0, 1, 0, 1, 1,\n",
              "       1, 0, 0, 0, 0, 0, 0, 0, 0, 1, 1, 0, 0, 1, 1, 0, 0, 1])"
            ]
          },
          "metadata": {},
          "execution_count": 11
        }
      ]
    },
    {
      "cell_type": "code",
      "source": [
        "base_final = base.loc[amostra == 1]\n",
        "base_final.shape\n"
      ],
      "metadata": {
        "id": "8APXMexOIYfa",
        "colab": {
          "base_uri": "https://localhost:8080/"
        },
        "outputId": "6973a564-5460-4ef6-ff08-2a63a3114e33"
      },
      "execution_count": 15,
      "outputs": [
        {
          "output_type": "execute_result",
          "data": {
            "text/plain": [
              "(49, 5)"
            ]
          },
          "metadata": {},
          "execution_count": 15
        }
      ]
    },
    {
      "cell_type": "code",
      "source": [
        "base_final = base.loc[amostra == 0]\n",
        "base_final.shape"
      ],
      "metadata": {
        "colab": {
          "base_uri": "https://localhost:8080/"
        },
        "id": "JLfNTEXEaJ5-",
        "outputId": "9aa0ae70-0c28-424e-d57d-e8eb41697d0a"
      },
      "execution_count": 16,
      "outputs": [
        {
          "output_type": "execute_result",
          "data": {
            "text/plain": [
              "(101, 5)"
            ]
          },
          "metadata": {},
          "execution_count": 16
        }
      ]
    }
  ]
}